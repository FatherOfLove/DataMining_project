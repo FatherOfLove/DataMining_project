{
 "cells": [
  {
   "cell_type": "code",
   "execution_count": 1,
   "metadata": {},
   "outputs": [],
   "source": [
    "import pandas as pd\n",
    "import numpy as np\n",
    "\n",
    "from sklearn.preprocessing import StandardScaler\n",
    "from sklearn.decomposition import PCA\n",
    "from sklearn.linear_model import LogisticRegression\n",
    "from sklearn.linear_model import LinearRegression\n",
    "from sklearn.model_selection import train_test_split\n",
    "from sklearn.naive_bayes import GaussianNB\n",
    "from sklearn.metrics import confusion_matrix\n",
    "from sklearn.metrics import precision_recall_fscore_support\n",
    "from sklearn.cluster import KMeans\n",
    "\n",
    "import seaborn as sns\n",
    "import matplotlib.pyplot as plt\n",
    "\n",
    "import warnings\n",
    "warnings.filterwarnings(\"ignore\")\n"
   ]
  },
  {
   "cell_type": "code",
   "execution_count": 2,
   "metadata": {},
   "outputs": [],
   "source": [
    "#basic data management libraries\n",
    "import pandas as pd\n",
    "import numpy as np\n",
    "import pylab as pl\n",
    "import re\n",
    "from urllib.request import urlopen\n",
    "import requests\n",
    "from requests import get\n",
    "import time\n",
    "from time import sleep\n",
    "from random import randint\n",
    "\n",
    "#algorithms used\n",
    "from sklearn import preprocessing\n",
    "from sklearn.cluster import KMeans\n",
    "from sklearn.cluster import AgglomerativeClustering\n",
    "from sklearn import mixture\n",
    "from sklearn.linear_model import LinearRegression\n",
    "from sklearn.linear_model import LogisticRegression\n",
    "from sklearn import tree\n",
    "from sklearn.ensemble import RandomForestRegressor\n",
    "from sklearn.ensemble import RandomForestClassifier\n",
    "from sklearn.naive_bayes import GaussianNB\n",
    "from sklearn.naive_bayes import MultinomialNB\n",
    "from sklearn import tree\n",
    "from bs4 import BeautifulSoup\n",
    "from sklearn.svm import SVC  \n",
    "from sklearn.neighbors import KNeighborsClassifier  \n",
    "from sklearn.metrics import classification_report, confusion_matrix \n",
    "from sklearn.decomposition import PCA\n",
    "from sklearn.preprocessing import StandardScaler\n",
    "\n",
    "\n",
    "#helper libraries to take metrics and split data\n",
    "from sklearn import metrics\n",
    "from sklearn.model_selection import train_test_split\n",
    "from sklearn.metrics import confusion_matrix\n",
    "from sklearn.metrics import precision_recall_fscore_support\n",
    "from sklearn.metrics import accuracy_score\n",
    "from sklearn.model_selection import cross_val_score, cross_val_predict\n",
    "from sklearn.utils.multiclass import unique_labels\n",
    "from scipy.spatial.distance import cdist\n",
    "\n",
    "#libraries to visualize data\n",
    "import seaborn as sns\n",
    "import matplotlib.pyplot as plt\n",
    "\n",
    "import warnings\n",
    "warnings.filterwarnings(\"ignore\")\n",
    "%matplotlib inline"
   ]
  },
  {
   "cell_type": "code",
   "execution_count": 3,
   "metadata": {},
   "outputs": [],
   "source": [
    "# Helper function to print confusion matrix and other stats on each model\n",
    "\n",
    "def stats(y_true, y_pred):\n",
    "    \n",
    "    conf_mat = confusion_matrix(y_true, y_pred)\n",
    "    sns.set(font_scale=1.2)#for label size\n",
    "    sns.heatmap(conf_mat, annot=True,annot_kws={\"size\": 16},)# font size\n",
    "\n",
    "    \n",
    "    stats = precision_recall_fscore_support(y_true, y_pred, average = 'weighted')\n",
    "    print('\\nprecision')\n",
    "    print(stats[0])\n",
    "    print('recall')\n",
    "    print(stats[1])\n",
    "    print('f1 score')\n",
    "    print(stats[2])\n",
    "    print('\\n')\n",
    "    \n"
   ]
  },
  {
   "cell_type": "code",
   "execution_count": 4,
   "metadata": {},
   "outputs": [
    {
     "data": {
      "text/html": [
       "<div>\n",
       "<style scoped>\n",
       "    .dataframe tbody tr th:only-of-type {\n",
       "        vertical-align: middle;\n",
       "    }\n",
       "\n",
       "    .dataframe tbody tr th {\n",
       "        vertical-align: top;\n",
       "    }\n",
       "\n",
       "    .dataframe thead th {\n",
       "        text-align: right;\n",
       "    }\n",
       "</style>\n",
       "<table border=\"1\" class=\"dataframe\">\n",
       "  <thead>\n",
       "    <tr style=\"text-align: right;\">\n",
       "      <th></th>\n",
       "      <th>Unnamed: 0</th>\n",
       "      <th>id</th>\n",
       "      <th>host_response_time</th>\n",
       "      <th>host_response_rate</th>\n",
       "      <th>host_is_superhost</th>\n",
       "      <th>host_total_listings_count</th>\n",
       "      <th>host_has_profile_pic</th>\n",
       "      <th>neighbourhood_cleansed</th>\n",
       "      <th>zipcode</th>\n",
       "      <th>latitude</th>\n",
       "      <th>...</th>\n",
       "      <th>price</th>\n",
       "      <th>security_deposit</th>\n",
       "      <th>cleaning_fee</th>\n",
       "      <th>minimum_nights</th>\n",
       "      <th>maximum_nights</th>\n",
       "      <th>number_of_reviews</th>\n",
       "      <th>instant_bookable</th>\n",
       "      <th>cancellation_policy</th>\n",
       "      <th>senti_score</th>\n",
       "      <th>walk_score</th>\n",
       "    </tr>\n",
       "  </thead>\n",
       "  <tbody>\n",
       "    <tr>\n",
       "      <td>0</td>\n",
       "      <td>0</td>\n",
       "      <td>958</td>\n",
       "      <td>1</td>\n",
       "      <td>90.0</td>\n",
       "      <td>1</td>\n",
       "      <td>1.0</td>\n",
       "      <td>1</td>\n",
       "      <td>4</td>\n",
       "      <td>94117.0</td>\n",
       "      <td>37.76931</td>\n",
       "      <td>...</td>\n",
       "      <td>170.0</td>\n",
       "      <td>100.0</td>\n",
       "      <td>$100.00</td>\n",
       "      <td>1</td>\n",
       "      <td>30</td>\n",
       "      <td>199</td>\n",
       "      <td>1</td>\n",
       "      <td>2</td>\n",
       "      <td>0.769675</td>\n",
       "      <td>97</td>\n",
       "    </tr>\n",
       "    <tr>\n",
       "      <td>1</td>\n",
       "      <td>1</td>\n",
       "      <td>3850</td>\n",
       "      <td>1</td>\n",
       "      <td>100.0</td>\n",
       "      <td>1</td>\n",
       "      <td>2.0</td>\n",
       "      <td>1</td>\n",
       "      <td>17</td>\n",
       "      <td>94131.0</td>\n",
       "      <td>37.75402</td>\n",
       "      <td>...</td>\n",
       "      <td>99.0</td>\n",
       "      <td>0.0</td>\n",
       "      <td>$10.00</td>\n",
       "      <td>1</td>\n",
       "      <td>5</td>\n",
       "      <td>136</td>\n",
       "      <td>0</td>\n",
       "      <td>1</td>\n",
       "      <td>0.796945</td>\n",
       "      <td>71</td>\n",
       "    </tr>\n",
       "    <tr>\n",
       "      <td>2</td>\n",
       "      <td>2</td>\n",
       "      <td>7918</td>\n",
       "      <td>1</td>\n",
       "      <td>100.0</td>\n",
       "      <td>1</td>\n",
       "      <td>10.0</td>\n",
       "      <td>1</td>\n",
       "      <td>7</td>\n",
       "      <td>94117.0</td>\n",
       "      <td>37.76669</td>\n",
       "      <td>...</td>\n",
       "      <td>65.0</td>\n",
       "      <td>200.0</td>\n",
       "      <td>$50.00</td>\n",
       "      <td>32</td>\n",
       "      <td>60</td>\n",
       "      <td>17</td>\n",
       "      <td>0</td>\n",
       "      <td>1</td>\n",
       "      <td>0.715800</td>\n",
       "      <td>97</td>\n",
       "    </tr>\n",
       "    <tr>\n",
       "      <td>3</td>\n",
       "      <td>3</td>\n",
       "      <td>8142</td>\n",
       "      <td>1</td>\n",
       "      <td>100.0</td>\n",
       "      <td>1</td>\n",
       "      <td>10.0</td>\n",
       "      <td>1</td>\n",
       "      <td>7</td>\n",
       "      <td>94117.0</td>\n",
       "      <td>37.76487</td>\n",
       "      <td>...</td>\n",
       "      <td>65.0</td>\n",
       "      <td>200.0</td>\n",
       "      <td>$50.00</td>\n",
       "      <td>32</td>\n",
       "      <td>90</td>\n",
       "      <td>8</td>\n",
       "      <td>0</td>\n",
       "      <td>1</td>\n",
       "      <td>0.763887</td>\n",
       "      <td>97</td>\n",
       "    </tr>\n",
       "    <tr>\n",
       "      <td>4</td>\n",
       "      <td>4</td>\n",
       "      <td>8339</td>\n",
       "      <td>2</td>\n",
       "      <td>100.0</td>\n",
       "      <td>0</td>\n",
       "      <td>2.0</td>\n",
       "      <td>1</td>\n",
       "      <td>4</td>\n",
       "      <td>94117.0</td>\n",
       "      <td>37.77525</td>\n",
       "      <td>...</td>\n",
       "      <td>475.0</td>\n",
       "      <td>0.0</td>\n",
       "      <td>$225.00</td>\n",
       "      <td>4</td>\n",
       "      <td>1125</td>\n",
       "      <td>28</td>\n",
       "      <td>0</td>\n",
       "      <td>2</td>\n",
       "      <td>0.928354</td>\n",
       "      <td>97</td>\n",
       "    </tr>\n",
       "  </tbody>\n",
       "</table>\n",
       "<p>5 rows × 28 columns</p>\n",
       "</div>"
      ],
      "text/plain": [
       "   Unnamed: 0    id  host_response_time  host_response_rate  \\\n",
       "0           0   958                   1                90.0   \n",
       "1           1  3850                   1               100.0   \n",
       "2           2  7918                   1               100.0   \n",
       "3           3  8142                   1               100.0   \n",
       "4           4  8339                   2               100.0   \n",
       "\n",
       "   host_is_superhost  host_total_listings_count  host_has_profile_pic  \\\n",
       "0                  1                        1.0                     1   \n",
       "1                  1                        2.0                     1   \n",
       "2                  1                       10.0                     1   \n",
       "3                  1                       10.0                     1   \n",
       "4                  0                        2.0                     1   \n",
       "\n",
       "   neighbourhood_cleansed  zipcode  latitude  ...  price  security_deposit  \\\n",
       "0                       4  94117.0  37.76931  ...  170.0             100.0   \n",
       "1                      17  94131.0  37.75402  ...   99.0               0.0   \n",
       "2                       7  94117.0  37.76669  ...   65.0             200.0   \n",
       "3                       7  94117.0  37.76487  ...   65.0             200.0   \n",
       "4                       4  94117.0  37.77525  ...  475.0               0.0   \n",
       "\n",
       "   cleaning_fee  minimum_nights  maximum_nights  number_of_reviews  \\\n",
       "0      $100.00                1              30                199   \n",
       "1       $10.00                1               5                136   \n",
       "2       $50.00               32              60                 17   \n",
       "3       $50.00               32              90                  8   \n",
       "4      $225.00                4            1125                 28   \n",
       "\n",
       "   instant_bookable  cancellation_policy  senti_score  walk_score  \n",
       "0                 1                    2     0.769675          97  \n",
       "1                 0                    1     0.796945          71  \n",
       "2                 0                    1     0.715800          97  \n",
       "3                 0                    1     0.763887          97  \n",
       "4                 0                    2     0.928354          97  \n",
       "\n",
       "[5 rows x 28 columns]"
      ]
     },
     "execution_count": 4,
     "metadata": {},
     "output_type": "execute_result"
    }
   ],
   "source": [
    "data = pd.read_csv('/Users/jiezou/Documents/GitHub/DataMining_project/v9/Version8.csv')\n",
    "data.head()"
   ]
  },
  {
   "cell_type": "code",
   "execution_count": 6,
   "metadata": {},
   "outputs": [
    {
     "data": {
      "text/plain": [
       "(7544, 28)"
      ]
     },
     "execution_count": 6,
     "metadata": {},
     "output_type": "execute_result"
    }
   ],
   "source": [
    "data.shape"
   ]
  },
  {
   "cell_type": "markdown",
   "metadata": {},
   "source": [
    "# PCA"
   ]
  },
  {
   "cell_type": "code",
   "execution_count": 9,
   "metadata": {},
   "outputs": [],
   "source": [
    "def pca(x):\n",
    "  # perform standard scalar normalization to normalize the data\n",
    "  sc = StandardScaler()  \n",
    "  x = sc.fit_transform(x) \n",
    "\n",
    "  # perform PCA on dataset\n",
    "  pca = PCA(n_components=3)  \n",
    "  comp = pca.fit_transform(x) \n",
    "\n",
    "  # Returns the variance caused by each of the principal components\n",
    "  explained_variance = pca.explained_variance_ratio_  \n",
    "  print(\"Variance for each principle component:\" ,explained_variance)\n",
    "  print(\"Components contain \", sum(explained_variance)*100, \"% of information\")\n",
    "\n",
    "  df = pd.DataFrame(data = comp\n",
    "             , columns = ['PC_1', 'PC_2', 'PC_3'])\n",
    "  return df"
   ]
  },
  {
   "cell_type": "code",
   "execution_count": 10,
   "metadata": {},
   "outputs": [
    {
     "name": "stdout",
     "output_type": "stream",
     "text": [
      "Variance for each principle component: [0.24900724 0.19407329 0.1731841 ]\n",
      "Components contain  61.62646235182165 % of information\n"
     ]
    },
    {
     "data": {
      "text/html": [
       "<div>\n",
       "<style scoped>\n",
       "    .dataframe tbody tr th:only-of-type {\n",
       "        vertical-align: middle;\n",
       "    }\n",
       "\n",
       "    .dataframe tbody tr th {\n",
       "        vertical-align: top;\n",
       "    }\n",
       "\n",
       "    .dataframe thead th {\n",
       "        text-align: right;\n",
       "    }\n",
       "</style>\n",
       "<table border=\"1\" class=\"dataframe\">\n",
       "  <thead>\n",
       "    <tr style=\"text-align: right;\">\n",
       "      <th></th>\n",
       "      <th>PC_1</th>\n",
       "      <th>PC_2</th>\n",
       "      <th>PC_3</th>\n",
       "    </tr>\n",
       "  </thead>\n",
       "  <tbody>\n",
       "    <tr>\n",
       "      <td>0</td>\n",
       "      <td>1.928286</td>\n",
       "      <td>-0.757552</td>\n",
       "      <td>-0.442102</td>\n",
       "    </tr>\n",
       "    <tr>\n",
       "      <td>1</td>\n",
       "      <td>1.817396</td>\n",
       "      <td>-0.857572</td>\n",
       "      <td>0.689161</td>\n",
       "    </tr>\n",
       "    <tr>\n",
       "      <td>2</td>\n",
       "      <td>0.668178</td>\n",
       "      <td>0.344760</td>\n",
       "      <td>-0.171608</td>\n",
       "    </tr>\n",
       "    <tr>\n",
       "      <td>3</td>\n",
       "      <td>0.680107</td>\n",
       "      <td>0.347832</td>\n",
       "      <td>-0.393279</td>\n",
       "    </tr>\n",
       "    <tr>\n",
       "      <td>4</td>\n",
       "      <td>-0.187844</td>\n",
       "      <td>-0.201160</td>\n",
       "      <td>-1.084150</td>\n",
       "    </tr>\n",
       "  </tbody>\n",
       "</table>\n",
       "</div>"
      ],
      "text/plain": [
       "       PC_1      PC_2      PC_3\n",
       "0  1.928286 -0.757552 -0.442102\n",
       "1  1.817396 -0.857572  0.689161\n",
       "2  0.668178  0.344760 -0.171608\n",
       "3  0.680107  0.347832 -0.393279\n",
       "4 -0.187844 -0.201160 -1.084150"
      ]
     },
     "execution_count": 10,
     "metadata": {},
     "output_type": "execute_result"
    }
   ],
   "source": [
    "x = data[['senti_score', 'walk_score', 'number_of_reviews',\n",
    "         'host_total_listings_count', 'host_is_superhost',\n",
    "         'host_response_rate']]\n",
    "y = data[['price']]\n",
    "df = pca(x)\n",
    "df.head()"
   ]
  },
  {
   "cell_type": "code",
   "execution_count": 11,
   "metadata": {},
   "outputs": [
    {
     "data": {
      "text/html": [
       "<div>\n",
       "<style scoped>\n",
       "    .dataframe tbody tr th:only-of-type {\n",
       "        vertical-align: middle;\n",
       "    }\n",
       "\n",
       "    .dataframe tbody tr th {\n",
       "        vertical-align: top;\n",
       "    }\n",
       "\n",
       "    .dataframe thead th {\n",
       "        text-align: right;\n",
       "    }\n",
       "</style>\n",
       "<table border=\"1\" class=\"dataframe\">\n",
       "  <thead>\n",
       "    <tr style=\"text-align: right;\">\n",
       "      <th></th>\n",
       "      <th>price</th>\n",
       "    </tr>\n",
       "  </thead>\n",
       "  <tbody>\n",
       "    <tr>\n",
       "      <td>count</td>\n",
       "      <td>7544.000000</td>\n",
       "    </tr>\n",
       "    <tr>\n",
       "      <td>mean</td>\n",
       "      <td>215.797720</td>\n",
       "    </tr>\n",
       "    <tr>\n",
       "      <td>std</td>\n",
       "      <td>258.190685</td>\n",
       "    </tr>\n",
       "    <tr>\n",
       "      <td>min</td>\n",
       "      <td>0.000000</td>\n",
       "    </tr>\n",
       "    <tr>\n",
       "      <td>25%</td>\n",
       "      <td>100.000000</td>\n",
       "    </tr>\n",
       "    <tr>\n",
       "      <td>50%</td>\n",
       "      <td>152.000000</td>\n",
       "    </tr>\n",
       "    <tr>\n",
       "      <td>75%</td>\n",
       "      <td>249.000000</td>\n",
       "    </tr>\n",
       "    <tr>\n",
       "      <td>max</td>\n",
       "      <td>8000.000000</td>\n",
       "    </tr>\n",
       "  </tbody>\n",
       "</table>\n",
       "</div>"
      ],
      "text/plain": [
       "             price\n",
       "count  7544.000000\n",
       "mean    215.797720\n",
       "std     258.190685\n",
       "min       0.000000\n",
       "25%     100.000000\n",
       "50%     152.000000\n",
       "75%     249.000000\n",
       "max    8000.000000"
      ]
     },
     "execution_count": 11,
     "metadata": {},
     "output_type": "execute_result"
    }
   ],
   "source": [
    "data[['price']].describe()"
   ]
  },
  {
   "cell_type": "code",
   "execution_count": 12,
   "metadata": {},
   "outputs": [
    {
     "data": {
      "text/html": [
       "<div>\n",
       "<style scoped>\n",
       "    .dataframe tbody tr th:only-of-type {\n",
       "        vertical-align: middle;\n",
       "    }\n",
       "\n",
       "    .dataframe tbody tr th {\n",
       "        vertical-align: top;\n",
       "    }\n",
       "\n",
       "    .dataframe thead th {\n",
       "        text-align: right;\n",
       "    }\n",
       "</style>\n",
       "<table border=\"1\" class=\"dataframe\">\n",
       "  <thead>\n",
       "    <tr style=\"text-align: right;\">\n",
       "      <th></th>\n",
       "      <th>Unnamed: 0</th>\n",
       "      <th>id</th>\n",
       "      <th>host_response_time</th>\n",
       "      <th>host_response_rate</th>\n",
       "      <th>host_is_superhost</th>\n",
       "      <th>host_total_listings_count</th>\n",
       "      <th>host_has_profile_pic</th>\n",
       "      <th>neighbourhood_cleansed</th>\n",
       "      <th>zipcode</th>\n",
       "      <th>latitude</th>\n",
       "      <th>...</th>\n",
       "      <th>security_deposit</th>\n",
       "      <th>cleaning_fee</th>\n",
       "      <th>minimum_nights</th>\n",
       "      <th>maximum_nights</th>\n",
       "      <th>number_of_reviews</th>\n",
       "      <th>instant_bookable</th>\n",
       "      <th>cancellation_policy</th>\n",
       "      <th>senti_score</th>\n",
       "      <th>walk_score</th>\n",
       "      <th>price_num</th>\n",
       "    </tr>\n",
       "  </thead>\n",
       "  <tbody>\n",
       "    <tr>\n",
       "      <td>0</td>\n",
       "      <td>0</td>\n",
       "      <td>958</td>\n",
       "      <td>1</td>\n",
       "      <td>90.0</td>\n",
       "      <td>1</td>\n",
       "      <td>1.0</td>\n",
       "      <td>1</td>\n",
       "      <td>4</td>\n",
       "      <td>94117.0</td>\n",
       "      <td>37.76931</td>\n",
       "      <td>...</td>\n",
       "      <td>100.0</td>\n",
       "      <td>$100.00</td>\n",
       "      <td>1</td>\n",
       "      <td>30</td>\n",
       "      <td>199</td>\n",
       "      <td>1</td>\n",
       "      <td>2</td>\n",
       "      <td>0.769675</td>\n",
       "      <td>97</td>\n",
       "      <td></td>\n",
       "    </tr>\n",
       "    <tr>\n",
       "      <td>1</td>\n",
       "      <td>1</td>\n",
       "      <td>3850</td>\n",
       "      <td>1</td>\n",
       "      <td>100.0</td>\n",
       "      <td>1</td>\n",
       "      <td>2.0</td>\n",
       "      <td>1</td>\n",
       "      <td>17</td>\n",
       "      <td>94131.0</td>\n",
       "      <td>37.75402</td>\n",
       "      <td>...</td>\n",
       "      <td>0.0</td>\n",
       "      <td>$10.00</td>\n",
       "      <td>1</td>\n",
       "      <td>5</td>\n",
       "      <td>136</td>\n",
       "      <td>0</td>\n",
       "      <td>1</td>\n",
       "      <td>0.796945</td>\n",
       "      <td>71</td>\n",
       "      <td></td>\n",
       "    </tr>\n",
       "    <tr>\n",
       "      <td>2</td>\n",
       "      <td>2</td>\n",
       "      <td>7918</td>\n",
       "      <td>1</td>\n",
       "      <td>100.0</td>\n",
       "      <td>1</td>\n",
       "      <td>10.0</td>\n",
       "      <td>1</td>\n",
       "      <td>7</td>\n",
       "      <td>94117.0</td>\n",
       "      <td>37.76669</td>\n",
       "      <td>...</td>\n",
       "      <td>200.0</td>\n",
       "      <td>$50.00</td>\n",
       "      <td>32</td>\n",
       "      <td>60</td>\n",
       "      <td>17</td>\n",
       "      <td>0</td>\n",
       "      <td>1</td>\n",
       "      <td>0.715800</td>\n",
       "      <td>97</td>\n",
       "      <td></td>\n",
       "    </tr>\n",
       "    <tr>\n",
       "      <td>3</td>\n",
       "      <td>3</td>\n",
       "      <td>8142</td>\n",
       "      <td>1</td>\n",
       "      <td>100.0</td>\n",
       "      <td>1</td>\n",
       "      <td>10.0</td>\n",
       "      <td>1</td>\n",
       "      <td>7</td>\n",
       "      <td>94117.0</td>\n",
       "      <td>37.76487</td>\n",
       "      <td>...</td>\n",
       "      <td>200.0</td>\n",
       "      <td>$50.00</td>\n",
       "      <td>32</td>\n",
       "      <td>90</td>\n",
       "      <td>8</td>\n",
       "      <td>0</td>\n",
       "      <td>1</td>\n",
       "      <td>0.763887</td>\n",
       "      <td>97</td>\n",
       "      <td></td>\n",
       "    </tr>\n",
       "    <tr>\n",
       "      <td>4</td>\n",
       "      <td>4</td>\n",
       "      <td>8339</td>\n",
       "      <td>2</td>\n",
       "      <td>100.0</td>\n",
       "      <td>0</td>\n",
       "      <td>2.0</td>\n",
       "      <td>1</td>\n",
       "      <td>4</td>\n",
       "      <td>94117.0</td>\n",
       "      <td>37.77525</td>\n",
       "      <td>...</td>\n",
       "      <td>0.0</td>\n",
       "      <td>$225.00</td>\n",
       "      <td>4</td>\n",
       "      <td>1125</td>\n",
       "      <td>28</td>\n",
       "      <td>0</td>\n",
       "      <td>2</td>\n",
       "      <td>0.928354</td>\n",
       "      <td>97</td>\n",
       "      <td></td>\n",
       "    </tr>\n",
       "  </tbody>\n",
       "</table>\n",
       "<p>5 rows × 29 columns</p>\n",
       "</div>"
      ],
      "text/plain": [
       "   Unnamed: 0    id  host_response_time  host_response_rate  \\\n",
       "0           0   958                   1                90.0   \n",
       "1           1  3850                   1               100.0   \n",
       "2           2  7918                   1               100.0   \n",
       "3           3  8142                   1               100.0   \n",
       "4           4  8339                   2               100.0   \n",
       "\n",
       "   host_is_superhost  host_total_listings_count  host_has_profile_pic  \\\n",
       "0                  1                        1.0                     1   \n",
       "1                  1                        2.0                     1   \n",
       "2                  1                       10.0                     1   \n",
       "3                  1                       10.0                     1   \n",
       "4                  0                        2.0                     1   \n",
       "\n",
       "   neighbourhood_cleansed  zipcode  latitude  ...  security_deposit  \\\n",
       "0                       4  94117.0  37.76931  ...             100.0   \n",
       "1                      17  94131.0  37.75402  ...               0.0   \n",
       "2                       7  94117.0  37.76669  ...             200.0   \n",
       "3                       7  94117.0  37.76487  ...             200.0   \n",
       "4                       4  94117.0  37.77525  ...               0.0   \n",
       "\n",
       "   cleaning_fee  minimum_nights  maximum_nights  number_of_reviews  \\\n",
       "0      $100.00                1              30                199   \n",
       "1       $10.00                1               5                136   \n",
       "2       $50.00               32              60                 17   \n",
       "3       $50.00               32              90                  8   \n",
       "4      $225.00                4            1125                 28   \n",
       "\n",
       "   instant_bookable  cancellation_policy  senti_score  walk_score  price_num  \n",
       "0                 1                    2     0.769675          97             \n",
       "1                 0                    1     0.796945          71             \n",
       "2                 0                    1     0.715800          97             \n",
       "3                 0                    1     0.763887          97             \n",
       "4                 0                    2     0.928354          97             \n",
       "\n",
       "[5 rows x 29 columns]"
      ]
     },
     "execution_count": 12,
     "metadata": {},
     "output_type": "execute_result"
    }
   ],
   "source": [
    "data['price_num'] = ''\n",
    "data.head()"
   ]
  },
  {
   "cell_type": "code",
   "execution_count": 13,
   "metadata": {},
   "outputs": [],
   "source": [
    "# continuous to categorical \n",
    "for i in range(len(data)):\n",
    "    price = data['price'].iloc[i]\n",
    "    if price <= 100.0:\n",
    "        data['price_num'].iloc[i] = 1 # low price\n",
    "    if (price > 100.0) & (price <= 152.0):\n",
    "        data['price_num'].iloc[i] = 2 # lower medium price\n",
    "    if (price > 152.0) & (price <= 249.0):\n",
    "        data['price_num'].iloc[i] = 3 # higher medium price\n",
    "    if (price > 249.0) & (price <= 8000.0):\n",
    "        data['price_num'].iloc[i] = 4 # higher medium price"
   ]
  },
  {
   "cell_type": "code",
   "execution_count": 14,
   "metadata": {},
   "outputs": [],
   "source": [
    "data.to_csv('airbnb_v9.csv')"
   ]
  },
  {
   "cell_type": "code",
   "execution_count": 15,
   "metadata": {},
   "outputs": [
    {
     "data": {
      "text/html": [
       "<div>\n",
       "<style scoped>\n",
       "    .dataframe tbody tr th:only-of-type {\n",
       "        vertical-align: middle;\n",
       "    }\n",
       "\n",
       "    .dataframe tbody tr th {\n",
       "        vertical-align: top;\n",
       "    }\n",
       "\n",
       "    .dataframe thead th {\n",
       "        text-align: right;\n",
       "    }\n",
       "</style>\n",
       "<table border=\"1\" class=\"dataframe\">\n",
       "  <thead>\n",
       "    <tr style=\"text-align: right;\">\n",
       "      <th></th>\n",
       "      <th>PC_1</th>\n",
       "      <th>PC_2</th>\n",
       "      <th>PC_3</th>\n",
       "      <th>price</th>\n",
       "    </tr>\n",
       "  </thead>\n",
       "  <tbody>\n",
       "    <tr>\n",
       "      <td>0</td>\n",
       "      <td>1.928286</td>\n",
       "      <td>-0.757552</td>\n",
       "      <td>-0.442102</td>\n",
       "      <td>3</td>\n",
       "    </tr>\n",
       "    <tr>\n",
       "      <td>1</td>\n",
       "      <td>1.817396</td>\n",
       "      <td>-0.857572</td>\n",
       "      <td>0.689161</td>\n",
       "      <td>1</td>\n",
       "    </tr>\n",
       "    <tr>\n",
       "      <td>2</td>\n",
       "      <td>0.668178</td>\n",
       "      <td>0.344760</td>\n",
       "      <td>-0.171608</td>\n",
       "      <td>1</td>\n",
       "    </tr>\n",
       "    <tr>\n",
       "      <td>3</td>\n",
       "      <td>0.680107</td>\n",
       "      <td>0.347832</td>\n",
       "      <td>-0.393279</td>\n",
       "      <td>1</td>\n",
       "    </tr>\n",
       "    <tr>\n",
       "      <td>4</td>\n",
       "      <td>-0.187844</td>\n",
       "      <td>-0.201160</td>\n",
       "      <td>-1.084150</td>\n",
       "      <td>4</td>\n",
       "    </tr>\n",
       "  </tbody>\n",
       "</table>\n",
       "</div>"
      ],
      "text/plain": [
       "       PC_1      PC_2      PC_3  price\n",
       "0  1.928286 -0.757552 -0.442102      3\n",
       "1  1.817396 -0.857572  0.689161      1\n",
       "2  0.668178  0.344760 -0.171608      1\n",
       "3  0.680107  0.347832 -0.393279      1\n",
       "4 -0.187844 -0.201160 -1.084150      4"
      ]
     },
     "execution_count": 15,
     "metadata": {},
     "output_type": "execute_result"
    }
   ],
   "source": [
    "df['price'] = data[['price_num']]\n",
    "df.head()"
   ]
  },
  {
   "cell_type": "code",
   "execution_count": 16,
   "metadata": {},
   "outputs": [
    {
     "name": "stdout",
     "output_type": "stream",
     "text": [
      "\n",
      "precision\n",
      "0.41383834552477755\n",
      "recall\n",
      "0.34791252485089463\n",
      "f1 score\n",
      "0.30923203852439923\n",
      "\n",
      "\n",
      "None\n"
     ]
    },
    {
     "data": {
      "image/png": "[encoded data removed]",
      "text/plain": [
       "<Figure size 432x288 with 2 Axes>"
      ]
     },
     "metadata": {},
     "output_type": "display_data"
    }
   ],
   "source": [
    "x = df.loc[:, ['PC_1', 'PC_2', 'PC_3']]\n",
    "y = df.loc [:, 'price']\n",
    "\n",
    "x_train, x_test, y_train, y_test = train_test_split( x, y, test_size=0.20, random_state=0)\n",
    "\n",
    "n_bayes = GaussianNB()\n",
    "n_bayes.fit(x_train,y_train)\n",
    "predict = n_bayes.predict(x_test)\n",
    "\n",
    "print(stats(y_test, predict))"
   ]
  },
  {
   "cell_type": "code",
   "execution_count": 17,
   "metadata": {},
   "outputs": [
    {
     "name": "stdout",
     "output_type": "stream",
     "text": [
      "\n",
      "precision\n",
      "0.3906986732406395\n",
      "recall\n",
      "0.3273691186216037\n",
      "f1 score\n",
      "0.26780579503677554\n",
      "\n",
      "\n",
      "None\n"
     ]
    },
    {
     "data": {
      "image/png": "[encoded data removed]",
      "text/plain": [
       "<Figure size 432x288 with 2 Axes>"
      ]
     },
     "metadata": {},
     "output_type": "display_data"
    }
   ],
   "source": [
    "x = df.loc[:, ['PC_1', 'PC_2']]\n",
    "y = df.loc [:, 'price']\n",
    "\n",
    "x_train, x_test, y_train, y_test = train_test_split( x, y, test_size=0.20, random_state=0)\n",
    "\n",
    "n_bayes = GaussianNB()\n",
    "n_bayes.fit(x_train,y_train)\n",
    "predict = n_bayes.predict(x_test)\n",
    "\n",
    "print(stats(y_test, predict))"
   ]
  },
  {
   "cell_type": "markdown",
   "metadata": {},
   "source": [
    "# K Means"
   ]
  },
  {
   "cell_type": "code",
   "execution_count": 18,
   "metadata": {},
   "outputs": [
    {
     "data": {
      "text/plain": [
       "Index(['Unnamed: 0', 'id', 'host_response_time', 'host_response_rate',\n",
       "       'host_is_superhost', 'host_total_listings_count',\n",
       "       'host_has_profile_pic', 'neighbourhood_cleansed', 'zipcode', 'latitude',\n",
       "       'longitude', 'property_type', 'room_type', 'accommodates', 'bathrooms',\n",
       "       'bedrooms', 'beds', 'bed_type', 'price', 'security_deposit',\n",
       "       'cleaning_fee', 'minimum_nights', 'maximum_nights', 'number_of_reviews',\n",
       "       'instant_bookable', 'cancellation_policy', 'senti_score', 'walk_score',\n",
       "       'price_num'],\n",
       "      dtype='object')"
      ]
     },
     "execution_count": 18,
     "metadata": {},
     "output_type": "execute_result"
    }
   ],
   "source": [
    "data.columns"
   ]
  },
  {
   "cell_type": "code",
   "execution_count": 19,
   "metadata": {},
   "outputs": [
    {
     "data": {
      "text/html": [
       "<div>\n",
       "<style scoped>\n",
       "    .dataframe tbody tr th:only-of-type {\n",
       "        vertical-align: middle;\n",
       "    }\n",
       "\n",
       "    .dataframe tbody tr th {\n",
       "        vertical-align: top;\n",
       "    }\n",
       "\n",
       "    .dataframe thead th {\n",
       "        text-align: right;\n",
       "    }\n",
       "</style>\n",
       "<table border=\"1\" class=\"dataframe\">\n",
       "  <thead>\n",
       "    <tr style=\"text-align: right;\">\n",
       "      <th></th>\n",
       "      <th>senti_score</th>\n",
       "      <th>walk_score</th>\n",
       "      <th>number_of_reviews</th>\n",
       "      <th>host_total_listings_count</th>\n",
       "      <th>host_is_superhost</th>\n",
       "      <th>price_num</th>\n",
       "    </tr>\n",
       "  </thead>\n",
       "  <tbody>\n",
       "    <tr>\n",
       "      <td>0</td>\n",
       "      <td>0.769675</td>\n",
       "      <td>97</td>\n",
       "      <td>199</td>\n",
       "      <td>1.0</td>\n",
       "      <td>1</td>\n",
       "      <td>3</td>\n",
       "    </tr>\n",
       "    <tr>\n",
       "      <td>1</td>\n",
       "      <td>0.796945</td>\n",
       "      <td>71</td>\n",
       "      <td>136</td>\n",
       "      <td>2.0</td>\n",
       "      <td>1</td>\n",
       "      <td>1</td>\n",
       "    </tr>\n",
       "    <tr>\n",
       "      <td>2</td>\n",
       "      <td>0.715800</td>\n",
       "      <td>97</td>\n",
       "      <td>17</td>\n",
       "      <td>10.0</td>\n",
       "      <td>1</td>\n",
       "      <td>1</td>\n",
       "    </tr>\n",
       "    <tr>\n",
       "      <td>3</td>\n",
       "      <td>0.763887</td>\n",
       "      <td>97</td>\n",
       "      <td>8</td>\n",
       "      <td>10.0</td>\n",
       "      <td>1</td>\n",
       "      <td>1</td>\n",
       "    </tr>\n",
       "    <tr>\n",
       "      <td>4</td>\n",
       "      <td>0.928354</td>\n",
       "      <td>97</td>\n",
       "      <td>28</td>\n",
       "      <td>2.0</td>\n",
       "      <td>0</td>\n",
       "      <td>4</td>\n",
       "    </tr>\n",
       "  </tbody>\n",
       "</table>\n",
       "</div>"
      ],
      "text/plain": [
       "   senti_score  walk_score  number_of_reviews  host_total_listings_count  \\\n",
       "0     0.769675          97                199                        1.0   \n",
       "1     0.796945          71                136                        2.0   \n",
       "2     0.715800          97                 17                       10.0   \n",
       "3     0.763887          97                  8                       10.0   \n",
       "4     0.928354          97                 28                        2.0   \n",
       "\n",
       "   host_is_superhost  price_num  \n",
       "0                  1          3  \n",
       "1                  1          1  \n",
       "2                  1          1  \n",
       "3                  1          1  \n",
       "4                  0          4  "
      ]
     },
     "execution_count": 19,
     "metadata": {},
     "output_type": "execute_result"
    }
   ],
   "source": [
    "# Extract data for clustering and analysis \n",
    "\n",
    "clustering_data = data.loc[:,['senti_score','walk_score','number_of_reviews', 'host_total_listings_count', \n",
    "                              'host_is_superhost', 'price_num']]\n",
    "clustering_data.head()"
   ]
  },
  {
   "cell_type": "code",
   "execution_count": 20,
   "metadata": {},
   "outputs": [
    {
     "data": {
      "text/html": [
       "<div>\n",
       "<style scoped>\n",
       "    .dataframe tbody tr th:only-of-type {\n",
       "        vertical-align: middle;\n",
       "    }\n",
       "\n",
       "    .dataframe tbody tr th {\n",
       "        vertical-align: top;\n",
       "    }\n",
       "\n",
       "    .dataframe thead th {\n",
       "        text-align: right;\n",
       "    }\n",
       "</style>\n",
       "<table border=\"1\" class=\"dataframe\">\n",
       "  <thead>\n",
       "    <tr style=\"text-align: right;\">\n",
       "      <th></th>\n",
       "      <th>senti_score</th>\n",
       "      <th>walk_score</th>\n",
       "      <th>number_of_reviews</th>\n",
       "      <th>host_total_listings_count</th>\n",
       "      <th>host_is_superhost</th>\n",
       "      <th>price_num</th>\n",
       "    </tr>\n",
       "  </thead>\n",
       "  <tbody>\n",
       "    <tr>\n",
       "      <td>0</td>\n",
       "      <td>0.769675</td>\n",
       "      <td>0.75</td>\n",
       "      <td>0.272603</td>\n",
       "      <td>0.000683</td>\n",
       "      <td>1</td>\n",
       "      <td>3</td>\n",
       "    </tr>\n",
       "    <tr>\n",
       "      <td>1</td>\n",
       "      <td>0.796945</td>\n",
       "      <td>0.49</td>\n",
       "      <td>0.186301</td>\n",
       "      <td>0.001365</td>\n",
       "      <td>1</td>\n",
       "      <td>1</td>\n",
       "    </tr>\n",
       "    <tr>\n",
       "      <td>2</td>\n",
       "      <td>0.715800</td>\n",
       "      <td>0.75</td>\n",
       "      <td>0.023288</td>\n",
       "      <td>0.006826</td>\n",
       "      <td>1</td>\n",
       "      <td>1</td>\n",
       "    </tr>\n",
       "    <tr>\n",
       "      <td>3</td>\n",
       "      <td>0.763887</td>\n",
       "      <td>0.75</td>\n",
       "      <td>0.010959</td>\n",
       "      <td>0.006826</td>\n",
       "      <td>1</td>\n",
       "      <td>1</td>\n",
       "    </tr>\n",
       "    <tr>\n",
       "      <td>4</td>\n",
       "      <td>0.928354</td>\n",
       "      <td>0.75</td>\n",
       "      <td>0.038356</td>\n",
       "      <td>0.001365</td>\n",
       "      <td>0</td>\n",
       "      <td>4</td>\n",
       "    </tr>\n",
       "  </tbody>\n",
       "</table>\n",
       "</div>"
      ],
      "text/plain": [
       "   senti_score  walk_score  number_of_reviews  host_total_listings_count  \\\n",
       "0     0.769675        0.75           0.272603                   0.000683   \n",
       "1     0.796945        0.49           0.186301                   0.001365   \n",
       "2     0.715800        0.75           0.023288                   0.006826   \n",
       "3     0.763887        0.75           0.010959                   0.006826   \n",
       "4     0.928354        0.75           0.038356                   0.001365   \n",
       "\n",
       "   host_is_superhost  price_num  \n",
       "0                  1          3  \n",
       "1                  1          1  \n",
       "2                  1          1  \n",
       "3                  1          1  \n",
       "4                  0          4  "
      ]
     },
     "execution_count": 20,
     "metadata": {},
     "output_type": "execute_result"
    }
   ],
   "source": [
    "# Normalizing data between 1 and 0 \n",
    "clustering_data['walk_score'] = abs((data.walk_score - data.walk_score.min()) / (data.walk_score.max()))\n",
    "clustering_data['number_of_reviews'] = abs((data.number_of_reviews - data.number_of_reviews.min()) / (data.number_of_reviews.max()))\n",
    "clustering_data['host_total_listings_count'] = abs((data.host_total_listings_count - data.host_total_listings_count.min()) / (data.host_total_listings_count.max()))\n",
    "\n",
    "clustering_data.head()"
   ]
  },
  {
   "cell_type": "code",
   "execution_count": 21,
   "metadata": {},
   "outputs": [
    {
     "data": {
      "text/html": [
       "<div>\n",
       "<style scoped>\n",
       "    .dataframe tbody tr th:only-of-type {\n",
       "        vertical-align: middle;\n",
       "    }\n",
       "\n",
       "    .dataframe tbody tr th {\n",
       "        vertical-align: top;\n",
       "    }\n",
       "\n",
       "    .dataframe thead th {\n",
       "        text-align: right;\n",
       "    }\n",
       "</style>\n",
       "<table border=\"1\" class=\"dataframe\">\n",
       "  <thead>\n",
       "    <tr style=\"text-align: right;\">\n",
       "      <th></th>\n",
       "      <th>walk_score</th>\n",
       "      <th>senti_score</th>\n",
       "    </tr>\n",
       "  </thead>\n",
       "  <tbody>\n",
       "    <tr>\n",
       "      <td>0</td>\n",
       "      <td>0.75</td>\n",
       "      <td>0.769675</td>\n",
       "    </tr>\n",
       "    <tr>\n",
       "      <td>1</td>\n",
       "      <td>0.49</td>\n",
       "      <td>0.796945</td>\n",
       "    </tr>\n",
       "    <tr>\n",
       "      <td>2</td>\n",
       "      <td>0.75</td>\n",
       "      <td>0.715800</td>\n",
       "    </tr>\n",
       "    <tr>\n",
       "      <td>3</td>\n",
       "      <td>0.75</td>\n",
       "      <td>0.763887</td>\n",
       "    </tr>\n",
       "    <tr>\n",
       "      <td>4</td>\n",
       "      <td>0.75</td>\n",
       "      <td>0.928354</td>\n",
       "    </tr>\n",
       "  </tbody>\n",
       "</table>\n",
       "</div>"
      ],
      "text/plain": [
       "   walk_score  senti_score\n",
       "0        0.75     0.769675\n",
       "1        0.49     0.796945\n",
       "2        0.75     0.715800\n",
       "3        0.75     0.763887\n",
       "4        0.75     0.928354"
      ]
     },
     "execution_count": 21,
     "metadata": {},
     "output_type": "execute_result"
    }
   ],
   "source": [
    "clustering_norm_data = clustering_data[['walk_score', 'senti_score']]\n",
    "clustering_norm_data.head()"
   ]
  },
  {
   "cell_type": "code",
   "execution_count": 22,
   "metadata": {},
   "outputs": [],
   "source": [
    "# Helper function to count the number of samples in each cluster\n",
    "\n",
    "def label_count(labels):\n",
    "\n",
    "\tlab_count = dict()\n",
    "\n",
    "\tfor x in labels:\n",
    "\t\tif x in lab_count:\n",
    "\t\t\tlab_count[x] += 1\n",
    "\t\telse:\n",
    "\t\t\tlab_count[x] = 1\n",
    "\n",
    "\tprint(lab_count)\n",
    "\n",
    "\treturn"
   ]
  },
  {
   "cell_type": "code",
   "execution_count": 23,
   "metadata": {},
   "outputs": [
    {
     "name": "stdout",
     "output_type": "stream",
     "text": [
      "\n",
      "\n",
      "Clusters:\n",
      "{1: 6835, 2: 340, 0: 369}\n"
     ]
    },
    {
     "data": {
      "image/png": "[encoded data removed]",
      "text/plain": [
       "<Figure size 432x288 with 1 Axes>"
      ]
     },
     "metadata": {},
     "output_type": "display_data"
    }
   ],
   "source": [
    "# generating the K-Means clusters and setting k = 4\n",
    "n = 3\n",
    "\n",
    "cluster = KMeans(n_clusters = n, random_state = 0).fit(clustering_norm_data)\n",
    "\n",
    "labels = cluster.labels_\n",
    "print(\"\\n\\nClusters:\")\n",
    "label_count(labels)\n",
    "#data.loc[:,['province_id','variety_numerical','vintage']]\n",
    "\n",
    "# Scatter plot of the normalized k-means clustering of points and price\n",
    "plt.scatter(data.loc[:,'walk_score'], data.loc[:,'senti_score'], c=labels, cmap='rainbow')    \n",
    "plt.show()"
   ]
  },
  {
   "cell_type": "code",
   "execution_count": 24,
   "metadata": {},
   "outputs": [],
   "source": [
    "neighorhood = {\"Mission\":1, \"South of Market\":2, \"Downtown/Civic Center\":3, \"Western Addition\":4, \"Castro/Upper Market\":5, \"Bernal Heights\":6, \"Haight Ashbury\":7, \"Noe Valley\":8, \"Nob Hill\":9, \"Outer Sunset\":10, \"Potrero Hill\":11, \"Inner Richmond\":12, \"Marina\":13, \"Bayview\":14, \"Russian Hill\":15, \"North Beach\":16, \"Inner Sunset\":17, \"Excelsior\":18, \"Outer Mission\":19, \"Financial District\":20, \"Outer Richmond\":21, \"Pacific Heights\":22, \"West of Twin Peaks\":23, \"Parkside\":24, \"Chinatown\":25, \"Ocean View\":26, \"Visitacion Valley\":27, \"Twin Peaks\":28, \"Glen Park\":29, \"Lakeshore\":30, \"Crocker Amazon\":31, \"Presidio Heights\":32, \"Seacliff\":33, \"Diamond Heights\":34, \"Golden Gate Park\":35, \"Presidio\":36}"
   ]
  },
  {
   "cell_type": "code",
   "execution_count": 25,
   "metadata": {},
   "outputs": [],
   "source": [
    "# Get a list of keys from dictionary which has the given value\n",
    "\n",
    "def getKeysByValue(dictOfElements, valueToFind):\n",
    "    listOfKeys = list()\n",
    "    listOfItems = dictOfElements.items()\n",
    "    for item  in listOfItems:\n",
    "        if item[1] == valueToFind:\n",
    "            listOfKeys.append(item[0])\n",
    "    return  listOfKeys\n"
   ]
  },
  {
   "cell_type": "code",
   "execution_count": 26,
   "metadata": {},
   "outputs": [],
   "source": [
    "# Helper function to get the top x in col from data from each cluster\n",
    "\n",
    "# example usage: get_top_x_per_cluster(x, 'points', data, labels, n)\n",
    "# x = the top number 'x' from each cluster\n",
    "# col = the column with an attribute about the dataset\n",
    "# data = the dataframe with the entire datset\n",
    "# clusters = the clusters of each point\n",
    "# n = the number of clusters formed using for k-means\n",
    "\n",
    "def get_top_x_per_cluster(x, col, data, clusters, n):\n",
    "    top_lists = [dict() for i in range(n)]\n",
    "    c = 0\n",
    "    \n",
    "    for index, row in data.iterrows():\n",
    "        i = clusters[c]\n",
    "        c += 1\n",
    "        if row[col] in top_lists[i]:\n",
    "            top_lists[i][row[col]] += 1\n",
    "        else:\n",
    "             top_lists[i][row[col]] = 1\n",
    "    \n",
    "    print(\"\\nTop\", x, col, 'in each cluster')\n",
    "    for i in range(n):\n",
    "        print(\"\\nCluster \", i)\n",
    "        sorted_list = sorted(top_lists[i].items(), key=lambda kv: kv[1])\n",
    "        sorted_list = list(reversed(sorted_list))\n",
    "        for y in range(x):\n",
    "            if(y < len(sorted_list)):\n",
    "#                 print(sorted_list[y])\n",
    "                print(getKeysByValue(neighorhood, sorted_list[y][0]), sorted_list[y][1])\n",
    "    return\n",
    "    "
   ]
  },
  {
   "cell_type": "code",
   "execution_count": 27,
   "metadata": {},
   "outputs": [
    {
     "name": "stdout",
     "output_type": "stream",
     "text": [
      "\n",
      "Top 3 neighbourhood_cleansed in each cluster\n",
      "\n",
      "Cluster  0\n",
      "['Downtown/Civic Center'] 83\n",
      "['South of Market'] 34\n",
      "['Western Addition'] 31\n",
      "\n",
      "Cluster  1\n",
      "['Mission'] 696\n",
      "['Western Addition'] 572\n",
      "['South of Market'] 544\n",
      "\n",
      "Cluster  2\n",
      "['West of Twin Peaks'] 101\n",
      "['Visitacion Valley'] 77\n",
      "['South of Market'] 64\n"
     ]
    }
   ],
   "source": [
    "# Get top 3 neighborhoods from each cluster formed\n",
    "get_top_x_per_cluster(3, 'neighbourhood_cleansed', data, labels, n)"
   ]
  },
  {
   "cell_type": "code",
   "execution_count": 28,
   "metadata": {},
   "outputs": [
    {
     "data": {
      "text/plain": [
       "['Downtown/Civic Center']"
      ]
     },
     "execution_count": 28,
     "metadata": {},
     "output_type": "execute_result"
    }
   ],
   "source": [
    "getKeysByValue(neighorhood, 3)"
   ]
  },
  {
   "cell_type": "code",
   "execution_count": 29,
   "metadata": {},
   "outputs": [],
   "source": [
    "x = df.loc[:, ['PC_1', 'PC_2', 'PC_3']]\n",
    "y = df.loc [:, 'price']\n",
    "\n",
    "x_train, x_test, y_train, y_test = train_test_split( x, y, test_size=0.20, random_state=0)\n",
    "\n",
    "# Setting up the decision tree classifier. Using the principal components\n",
    "clf = tree.DecisionTreeClassifier()\n",
    "clf = clf.fit(x_train, y_train)\n",
    "predict = clf.predict(x_test)"
   ]
  },
  {
   "cell_type": "code",
   "execution_count": 30,
   "metadata": {},
   "outputs": [
    {
     "name": "stdout",
     "output_type": "stream",
     "text": [
      "\n",
      "precision\n",
      "0.353126929633203\n",
      "recall\n",
      "0.3518886679920477\n",
      "f1 score\n",
      "0.3520346105566808\n",
      "\n",
      "\n",
      "None\n"
     ]
    },
    {
     "data": {
      "image/png": "[encoded data removed]",
      "text/plain": [
       "<Figure size 432x288 with 2 Axes>"
      ]
     },
     "metadata": {},
     "output_type": "display_data"
    }
   ],
   "source": [
    "print(stats(y_test, predict))"
   ]
  },
  {
   "cell_type": "code",
   "execution_count": 31,
   "metadata": {},
   "outputs": [
    {
     "name": "stdout",
     "output_type": "stream",
     "text": [
      "3771, 0.5001325556733829\n"
     ]
    },
    {
     "data": {
      "text/html": [
       "<div>\n",
       "<style scoped>\n",
       "    .dataframe tbody tr th:only-of-type {\n",
       "        vertical-align: middle;\n",
       "    }\n",
       "\n",
       "    .dataframe tbody tr th {\n",
       "        vertical-align: top;\n",
       "    }\n",
       "\n",
       "    .dataframe thead th {\n",
       "        text-align: right;\n",
       "    }\n",
       "</style>\n",
       "<table border=\"1\" class=\"dataframe\">\n",
       "  <thead>\n",
       "    <tr style=\"text-align: right;\">\n",
       "      <th></th>\n",
       "      <th>senti_score</th>\n",
       "      <th>walk_score</th>\n",
       "      <th>number_of_reviews</th>\n",
       "      <th>host_total_listings_count</th>\n",
       "      <th>host_is_superhost</th>\n",
       "      <th>price_num</th>\n",
       "      <th>price_cat</th>\n",
       "    </tr>\n",
       "  </thead>\n",
       "  <tbody>\n",
       "    <tr>\n",
       "      <td>0</td>\n",
       "      <td>0.769675</td>\n",
       "      <td>0.75</td>\n",
       "      <td>0.272603</td>\n",
       "      <td>0.000683</td>\n",
       "      <td>1</td>\n",
       "      <td>3</td>\n",
       "      <td>1</td>\n",
       "    </tr>\n",
       "    <tr>\n",
       "      <td>1</td>\n",
       "      <td>0.796945</td>\n",
       "      <td>0.49</td>\n",
       "      <td>0.186301</td>\n",
       "      <td>0.001365</td>\n",
       "      <td>1</td>\n",
       "      <td>1</td>\n",
       "      <td>0</td>\n",
       "    </tr>\n",
       "    <tr>\n",
       "      <td>2</td>\n",
       "      <td>0.715800</td>\n",
       "      <td>0.75</td>\n",
       "      <td>0.023288</td>\n",
       "      <td>0.006826</td>\n",
       "      <td>1</td>\n",
       "      <td>1</td>\n",
       "      <td>0</td>\n",
       "    </tr>\n",
       "    <tr>\n",
       "      <td>3</td>\n",
       "      <td>0.763887</td>\n",
       "      <td>0.75</td>\n",
       "      <td>0.010959</td>\n",
       "      <td>0.006826</td>\n",
       "      <td>1</td>\n",
       "      <td>1</td>\n",
       "      <td>0</td>\n",
       "    </tr>\n",
       "    <tr>\n",
       "      <td>4</td>\n",
       "      <td>0.928354</td>\n",
       "      <td>0.75</td>\n",
       "      <td>0.038356</td>\n",
       "      <td>0.001365</td>\n",
       "      <td>0</td>\n",
       "      <td>4</td>\n",
       "      <td>1</td>\n",
       "    </tr>\n",
       "  </tbody>\n",
       "</table>\n",
       "</div>"
      ],
      "text/plain": [
       "   senti_score  walk_score  number_of_reviews  host_total_listings_count  \\\n",
       "0     0.769675        0.75           0.272603                   0.000683   \n",
       "1     0.796945        0.49           0.186301                   0.001365   \n",
       "2     0.715800        0.75           0.023288                   0.006826   \n",
       "3     0.763887        0.75           0.010959                   0.006826   \n",
       "4     0.928354        0.75           0.038356                   0.001365   \n",
       "\n",
       "   host_is_superhost  price_num  price_cat  \n",
       "0                  1          3          1  \n",
       "1                  1          1          0  \n",
       "2                  1          1          0  \n",
       "3                  1          1          0  \n",
       "4                  0          4          1  "
      ]
     },
     "execution_count": 31,
     "metadata": {},
     "output_type": "execute_result"
    }
   ],
   "source": [
    "# Logistic Regression\n",
    "clustering_data['price_cat'] = 0\n",
    "high = 0\n",
    "for index, row in clustering_data.iterrows():\n",
    "    if(row['price_num'] == 3) | (row['price_num'] == 4):\n",
    "        clustering_data.loc[index,'price_cat'] = 1\n",
    "        high += 1\n",
    "print(str(high) + ', ' + str(1-(high/clustering_data.shape[0])))\n",
    "clustering_data.head()"
   ]
  },
  {
   "cell_type": "code",
   "execution_count": 32,
   "metadata": {},
   "outputs": [
    {
     "name": "stdout",
     "output_type": "stream",
     "text": [
      "0.5227995758218452\n"
     ]
    },
    {
     "data": {
      "image/png": "[encoded data removed]",
      "text/plain": [
       "<Figure size 432x288 with 1 Axes>"
      ]
     },
     "metadata": {},
     "output_type": "display_data"
    },
    {
     "name": "stdout",
     "output_type": "stream",
     "text": [
      "\n",
      "precision\n",
      "0.5228547120240299\n",
      "recall\n",
      "0.5227995758218452\n",
      "f1 score\n",
      "0.5224739506336353\n",
      "\n",
      "\n"
     ]
    },
    {
     "data": {
      "image/png": "[encoded data removed]",
      "text/plain": [
       "<Figure size 432x288 with 2 Axes>"
      ]
     },
     "metadata": {},
     "output_type": "display_data"
    }
   ],
   "source": [
    "x = clustering_data.loc[:, ['senti_score']]\n",
    "y = clustering_data.loc[:, ['price_cat']]\n",
    "\n",
    "# x_train, x_test, y_train, y_test = train_test_split( x, y, test_size=0.20, random_state=0)\n",
    "\n",
    "\n",
    "reg = LogisticRegression(random_state=0, solver='sag', multi_class='ovr').fit(x, y)\n",
    "print(reg.score(x,y))\n",
    "\n",
    "predict = reg.predict(x)\n",
    "\n",
    "plt.scatter(x, y)  \n",
    "x = x.sort_values(by = 'senti_score')\n",
    "plt.plot(x,reg.predict_proba(x)[:,1],color = 'red')\n",
    "plt.show()\n",
    "# print(stats())\n",
    "stats(y, predict)"
   ]
  },
  {
   "cell_type": "code",
   "execution_count": 33,
   "metadata": {},
   "outputs": [
    {
     "name": "stdout",
     "output_type": "stream",
     "text": [
      "0.5483828207847296\n"
     ]
    },
    {
     "data": {
      "image/png": "[encoded data removed]",
      "text/plain": [
       "<Figure size 432x288 with 1 Axes>"
      ]
     },
     "metadata": {},
     "output_type": "display_data"
    },
    {
     "name": "stdout",
     "output_type": "stream",
     "text": [
      "\n",
      "precision\n",
      "0.5673590773795892\n",
      "recall\n",
      "0.5483828207847296\n",
      "f1 score\n",
      "0.5143177534990218\n",
      "\n",
      "\n"
     ]
    },
    {
     "data": {
      "image/png": "[encoded data removed]",
      "text/plain": [
       "<Figure size 432x288 with 2 Axes>"
      ]
     },
     "metadata": {},
     "output_type": "display_data"
    }
   ],
   "source": [
    "x = clustering_data.loc[:, ['walk_score']]\n",
    "y = clustering_data.loc[:, ['price_cat']]\n",
    "\n",
    "# x_train, x_test, y_train, y_test = train_test_split( x, y, test_size=0.20, random_state=0)\n",
    "\n",
    "\n",
    "reg = LogisticRegression(random_state=0, solver='sag', multi_class='ovr').fit(x, y)\n",
    "print(reg.score(x,y))\n",
    "\n",
    "predict = reg.predict(x)\n",
    "\n",
    "plt.scatter(x, y)  \n",
    "x = x.sort_values(by = 'walk_score')\n",
    "plt.plot(x,reg.predict_proba(x)[:,1],color = 'red')\n",
    "plt.show()\n",
    "# print(stats())\n",
    "stats(y, predict)"
   ]
  },
  {
   "cell_type": "code",
   "execution_count": 34,
   "metadata": {},
   "outputs": [
    {
     "name": "stdout",
     "output_type": "stream",
     "text": [
      "0.5719777306468717\n"
     ]
    },
    {
     "data": {
      "image/png": "[encoded data removed]",
      "text/plain": [
       "<Figure size 432x288 with 1 Axes>"
      ]
     },
     "metadata": {},
     "output_type": "display_data"
    },
    {
     "name": "stdout",
     "output_type": "stream",
     "text": [
      "\n",
      "precision\n",
      "0.5879937566024622\n",
      "recall\n",
      "0.5719777306468717\n",
      "f1 score\n",
      "0.5516602279570757\n",
      "\n",
      "\n"
     ]
    },
    {
     "data": {
      "image/png": "[encoded data removed]",
      "text/plain": [
       "<Figure size 432x288 with 2 Axes>"
      ]
     },
     "metadata": {},
     "output_type": "display_data"
    }
   ],
   "source": [
    "x = clustering_data.loc[:, ['number_of_reviews']]\n",
    "y = clustering_data.loc[:, ['price_cat']]\n",
    "\n",
    "# x_train, x_test, y_train, y_test = train_test_split( x, y, test_size=0.20, random_state=0)\n",
    "\n",
    "\n",
    "reg = LogisticRegression(random_state=0, solver='sag', multi_class='ovr').fit(x, y)\n",
    "print(reg.score(x,y))\n",
    "\n",
    "predict = reg.predict(x)\n",
    "\n",
    "plt.scatter(x, y)  \n",
    "x = x.sort_values(by = 'number_of_reviews')\n",
    "plt.plot(x,reg.predict_proba(x)[:,1],color = 'red')\n",
    "plt.show()\n",
    "# print(stats())\n",
    "stats(y, predict)"
   ]
  },
  {
   "cell_type": "code",
   "execution_count": 76,
   "metadata": {},
   "outputs": [
    {
     "data": {
      "text/html": [
       "<div>\n",
       "<style scoped>\n",
       "    .dataframe tbody tr th:only-of-type {\n",
       "        vertical-align: middle;\n",
       "    }\n",
       "\n",
       "    .dataframe tbody tr th {\n",
       "        vertical-align: top;\n",
       "    }\n",
       "\n",
       "    .dataframe thead th {\n",
       "        text-align: right;\n",
       "    }\n",
       "</style>\n",
       "<table border=\"1\" class=\"dataframe\">\n",
       "  <thead>\n",
       "    <tr style=\"text-align: right;\">\n",
       "      <th></th>\n",
       "      <th>Unnamed: 0</th>\n",
       "      <th>price</th>\n",
       "      <th>host_is_superhost</th>\n",
       "      <th>host_total_listings_count</th>\n",
       "      <th>host_has_profile_pic</th>\n",
       "      <th>zipcode</th>\n",
       "      <th>property_type</th>\n",
       "      <th>room_type</th>\n",
       "      <th>bathrooms</th>\n",
       "      <th>beds</th>\n",
       "      <th>bed_type</th>\n",
       "      <th>security_deposit</th>\n",
       "      <th>cleaning_fee</th>\n",
       "      <th>minimum_nights</th>\n",
       "      <th>instant_bookable</th>\n",
       "      <th>cancellation_policy</th>\n",
       "      <th>senti_score</th>\n",
       "      <th>walk_score</th>\n",
       "    </tr>\n",
       "  </thead>\n",
       "  <tbody>\n",
       "    <tr>\n",
       "      <td>0</td>\n",
       "      <td>0</td>\n",
       "      <td>170.0</td>\n",
       "      <td>1</td>\n",
       "      <td>1.0</td>\n",
       "      <td>1</td>\n",
       "      <td>94117.0</td>\n",
       "      <td>1</td>\n",
       "      <td>1</td>\n",
       "      <td>1.0</td>\n",
       "      <td>2.0</td>\n",
       "      <td>1</td>\n",
       "      <td>100.0</td>\n",
       "      <td>100.0</td>\n",
       "      <td>1</td>\n",
       "      <td>1</td>\n",
       "      <td>2</td>\n",
       "      <td>0.769675</td>\n",
       "      <td>97</td>\n",
       "    </tr>\n",
       "    <tr>\n",
       "      <td>1</td>\n",
       "      <td>1</td>\n",
       "      <td>99.0</td>\n",
       "      <td>1</td>\n",
       "      <td>2.0</td>\n",
       "      <td>1</td>\n",
       "      <td>94131.0</td>\n",
       "      <td>2</td>\n",
       "      <td>2</td>\n",
       "      <td>1.0</td>\n",
       "      <td>1.0</td>\n",
       "      <td>1</td>\n",
       "      <td>0.0</td>\n",
       "      <td>10.0</td>\n",
       "      <td>1</td>\n",
       "      <td>0</td>\n",
       "      <td>1</td>\n",
       "      <td>0.796945</td>\n",
       "      <td>71</td>\n",
       "    </tr>\n",
       "    <tr>\n",
       "      <td>2</td>\n",
       "      <td>2</td>\n",
       "      <td>65.0</td>\n",
       "      <td>1</td>\n",
       "      <td>10.0</td>\n",
       "      <td>1</td>\n",
       "      <td>94117.0</td>\n",
       "      <td>1</td>\n",
       "      <td>2</td>\n",
       "      <td>4.0</td>\n",
       "      <td>1.0</td>\n",
       "      <td>1</td>\n",
       "      <td>200.0</td>\n",
       "      <td>50.0</td>\n",
       "      <td>32</td>\n",
       "      <td>0</td>\n",
       "      <td>1</td>\n",
       "      <td>0.715800</td>\n",
       "      <td>97</td>\n",
       "    </tr>\n",
       "    <tr>\n",
       "      <td>3</td>\n",
       "      <td>3</td>\n",
       "      <td>65.0</td>\n",
       "      <td>1</td>\n",
       "      <td>10.0</td>\n",
       "      <td>1</td>\n",
       "      <td>94117.0</td>\n",
       "      <td>1</td>\n",
       "      <td>2</td>\n",
       "      <td>4.0</td>\n",
       "      <td>1.0</td>\n",
       "      <td>1</td>\n",
       "      <td>200.0</td>\n",
       "      <td>50.0</td>\n",
       "      <td>32</td>\n",
       "      <td>0</td>\n",
       "      <td>1</td>\n",
       "      <td>0.763887</td>\n",
       "      <td>97</td>\n",
       "    </tr>\n",
       "    <tr>\n",
       "      <td>4</td>\n",
       "      <td>4</td>\n",
       "      <td>475.0</td>\n",
       "      <td>0</td>\n",
       "      <td>2.0</td>\n",
       "      <td>1</td>\n",
       "      <td>94117.0</td>\n",
       "      <td>2</td>\n",
       "      <td>1</td>\n",
       "      <td>1.5</td>\n",
       "      <td>2.0</td>\n",
       "      <td>1</td>\n",
       "      <td>0.0</td>\n",
       "      <td>225.0</td>\n",
       "      <td>4</td>\n",
       "      <td>0</td>\n",
       "      <td>2</td>\n",
       "      <td>0.928354</td>\n",
       "      <td>97</td>\n",
       "    </tr>\n",
       "  </tbody>\n",
       "</table>\n",
       "</div>"
      ],
      "text/plain": [
       "   Unnamed: 0  price  host_is_superhost  host_total_listings_count  \\\n",
       "0           0  170.0                  1                        1.0   \n",
       "1           1   99.0                  1                        2.0   \n",
       "2           2   65.0                  1                       10.0   \n",
       "3           3   65.0                  1                       10.0   \n",
       "4           4  475.0                  0                        2.0   \n",
       "\n",
       "   host_has_profile_pic  zipcode  property_type  room_type  bathrooms  beds  \\\n",
       "0                     1  94117.0              1          1        1.0   2.0   \n",
       "1                     1  94131.0              2          2        1.0   1.0   \n",
       "2                     1  94117.0              1          2        4.0   1.0   \n",
       "3                     1  94117.0              1          2        4.0   1.0   \n",
       "4                     1  94117.0              2          1        1.5   2.0   \n",
       "\n",
       "   bed_type  security_deposit  cleaning_fee  minimum_nights  instant_bookable  \\\n",
       "0         1             100.0         100.0               1                 1   \n",
       "1         1               0.0          10.0               1                 0   \n",
       "2         1             200.0          50.0              32                 0   \n",
       "3         1             200.0          50.0              32                 0   \n",
       "4         1               0.0         225.0               4                 0   \n",
       "\n",
       "   cancellation_policy  senti_score  walk_score  \n",
       "0                    2     0.769675          97  \n",
       "1                    1     0.796945          71  \n",
       "2                    1     0.715800          97  \n",
       "3                    1     0.763887          97  \n",
       "4                    2     0.928354          97  "
      ]
     },
     "execution_count": 76,
     "metadata": {},
     "output_type": "execute_result"
    }
   ],
   "source": [
    "data2 = pd.read_csv('/Users/jiezou/Documents/GitHub/DataMining_project/v9/data_selected2.csv')\n",
    "data2.head()"
   ]
  },
  {
   "cell_type": "code",
   "execution_count": 77,
   "metadata": {},
   "outputs": [],
   "source": [
    "data2.drop(['Unnamed: 0'], axis=1, inplace=True)"
   ]
  },
  {
   "cell_type": "code",
   "execution_count": 78,
   "metadata": {},
   "outputs": [
    {
     "data": {
      "text/plain": [
       "(7544, 17)"
      ]
     },
     "execution_count": 78,
     "metadata": {},
     "output_type": "execute_result"
    }
   ],
   "source": [
    "data2.shape"
   ]
  },
  {
   "cell_type": "code",
   "execution_count": 79,
   "metadata": {},
   "outputs": [],
   "source": [
    "#LinearRegression"
   ]
  },
  {
   "cell_type": "code",
   "execution_count": 80,
   "metadata": {},
   "outputs": [
    {
     "name": "stdout",
     "output_type": "stream",
     "text": [
      "[[  0.          92.           1.         ...   1.           0.2023\n",
      "  100.        ]\n",
      " [  1.           2.           1.         ...   1.           0.87310161\n",
      "   97.        ]\n",
      " [  0.           1.           1.         ...   1.           0.75135152\n",
      "   98.        ]\n",
      " ...\n",
      " [  0.           1.           1.         ...   3.           0.76806923\n",
      "   99.        ]\n",
      " [  1.           3.           1.         ...   1.           0.72410679\n",
      "   98.        ]\n",
      " [  0.           3.           1.         ...   1.           0.296\n",
      "   97.        ]]\n",
      "[ 80. 335. 185. ... 185. 105. 300.]\n"
     ]
    }
   ],
   "source": [
    "from sklearn.linear_model import LinearRegression\n",
    "X = data2.iloc[:, 1:].values\n",
    "y=  data2[\"price\"].values\n",
    "X_train, X_test, y_train, y_test = train_test_split(X, y, test_size=0.3, random_state=1)\n",
    "print(X_train)\n",
    "print(y_train)"
   ]
  },
  {
   "cell_type": "code",
   "execution_count": 81,
   "metadata": {},
   "outputs": [
    {
     "name": "stdout",
     "output_type": "stream",
     "text": [
      "[[-8.94198525e-01  3.61470640e-02  7.55928946e-02 ... -8.97566001e-01\n",
      "  -3.56177236e+00  5.62705569e-01]\n",
      " [ 1.11831989e+00 -2.81482419e-01  7.55928946e-02 ... -8.97566001e-01\n",
      "   1.01306440e+00  3.59887260e-01]\n",
      " [-8.94198525e-01 -2.85011635e-01  7.55928946e-02 ... -8.97566001e-01\n",
      "   1.82734223e-01  4.27493363e-01]\n",
      " ...\n",
      " [-8.94198525e-01 -2.85011635e-01  7.55928946e-02 ...  1.25659240e+00\n",
      "   2.96748290e-01  4.95099466e-01]\n",
      " [ 1.11831989e+00 -2.77953202e-01  7.55928946e-02 ... -8.97566001e-01\n",
      "  -3.07355359e-03  4.27493363e-01]\n",
      " [-8.94198525e-01 -2.77953202e-01  7.55928946e-02 ... -8.97566001e-01\n",
      "  -2.92274258e+00  3.59887260e-01]]\n"
     ]
    }
   ],
   "source": [
    "# standardize the features\n",
    "from sklearn.preprocessing import StandardScaler as ss\n",
    "sc = ss()\n",
    "X_train_std = sc.fit_transform(X_train)\n",
    "X_test_std = sc.transform(X_test)\n",
    "print(X_train_std)\n",
    "\n",
    "reg = LinearRegression().fit(X_train_std, y_train)\n"
   ]
  },
  {
   "cell_type": "code",
   "execution_count": 59,
   "metadata": {},
   "outputs": [
    {
     "name": "stdout",
     "output_type": "stream",
     "text": [
      "0.3287172698090203\n"
     ]
    }
   ],
   "source": [
    "print(reg.score(X_train_std, y_train))"
   ]
  },
  {
   "cell_type": "code",
   "execution_count": 62,
   "metadata": {},
   "outputs": [
    {
     "name": "stdout",
     "output_type": "stream",
     "text": [
      "price                        149.00000\n",
      "host_is_superhost              1.00000\n",
      "host_total_listings_count      9.00000\n",
      "host_has_profile_pic           0.00000\n",
      "zipcode                        9.00000\n",
      "property_type                  1.00000\n",
      "room_type                      1.00000\n",
      "bathrooms                      0.50000\n",
      "beds                           1.00000\n",
      "bed_type                       0.00000\n",
      "security_deposit             500.00000\n",
      "cleaning_fee                 113.00000\n",
      "minimum_nights                28.00000\n",
      "instant_bookable               1.00000\n",
      "cancellation_policy            1.00000\n",
      "senti_score                    0.09317\n",
      "walk_score                     7.00000\n",
      "dtype: float64\n"
     ]
    }
   ],
   "source": [
    "#remove outliers\n",
    "Q1 = data2.quantile(0.25)\n",
    "Q3 = data2.quantile(0.75)\n",
    "IQR = Q3 - Q1\n",
    "print(IQR)"
   ]
  },
  {
   "cell_type": "code",
   "execution_count": 64,
   "metadata": {},
   "outputs": [
    {
     "data": {
      "text/plain": [
       "(5033, 17)"
      ]
     },
     "execution_count": 64,
     "metadata": {},
     "output_type": "execute_result"
    }
   ],
   "source": [
    "data2_out = data2[~((data2< (Q1 - 3 * IQR)) |(data2 > (Q3 + 3 * IQR))).any(axis=1)]\n",
    "data2_out.shape"
   ]
  },
  {
   "cell_type": "code",
   "execution_count": 127,
   "metadata": {},
   "outputs": [
    {
     "name": "stdout",
     "output_type": "stream",
     "text": [
      "[[ 0.          3.          1.         ...  2.          0.66982917\n",
      "  84.        ]\n",
      " [ 1.          1.          1.         ...  2.          0.71893214\n",
      "  99.        ]\n",
      " [ 0.          3.          1.         ...  1.          0.7906\n",
      "  99.        ]\n",
      " ...\n",
      " [ 0.          1.          1.         ...  1.          0.69813333\n",
      "  84.        ]\n",
      " [ 1.          1.          1.         ...  2.          0.8018283\n",
      "  85.        ]\n",
      " [ 0.          4.          1.         ...  1.          0.72555455\n",
      "  99.        ]]\n",
      "[199. 175. 220. ... 209. 150.  98.]\n"
     ]
    }
   ],
   "source": [
    "from sklearn.linear_model import LinearRegression\n",
    "X = data2_out.iloc[:, 1:].values\n",
    "y=  data2_out[\"price\"].values\n",
    "X_train, X_test, y_train, y_test = train_test_split(X, y, test_size=0.5, random_state=1)\n",
    "print(X_train)\n",
    "print(y_train)\n"
   ]
  },
  {
   "cell_type": "code",
   "execution_count": 128,
   "metadata": {},
   "outputs": [
    {
     "name": "stdout",
     "output_type": "stream",
     "text": [
      "[[-1.0047809  -0.11919485  0.         ...  0.24475373 -0.88709522\n",
      "  -1.38351959]\n",
      " [ 0.99524184 -0.44393143  0.         ...  0.24475373 -0.33136596\n",
      "   0.71284004]\n",
      " [-1.0047809  -0.11919485  0.         ... -1.03549657  0.47974426\n",
      "   0.71284004]\n",
      " ...\n",
      " [-1.0047809  -0.44393143  0.         ... -1.03549657 -0.56675917\n",
      "  -1.38351959]\n",
      " [ 0.99524184 -0.44393143  0.         ...  0.24475373  0.60682201\n",
      "  -1.24376228]\n",
      " [-1.0047809   0.04317344  0.         ... -1.03549657 -0.25641606\n",
      "   0.71284004]]\n"
     ]
    }
   ],
   "source": [
    "# standardize the features\n",
    "from sklearn.preprocessing import StandardScaler as ss\n",
    "sc = ss()\n",
    "X_train_std = sc.fit_transform(X_train)\n",
    "X_test_std = sc.transform(X_test)\n",
    "print(X_train_std)\n",
    "reg2 = LinearRegression().fit(X_train_std, y_train)"
   ]
  },
  {
   "cell_type": "code",
   "execution_count": 123,
   "metadata": {},
   "outputs": [
    {
     "name": "stdout",
     "output_type": "stream",
     "text": [
      "after removing outliers: -1634534.0759405594\n"
     ]
    }
   ],
   "source": [
    "print(\"after removing outliers:\",reg.score(X_test_sdt, y_test))"
   ]
  },
  {
   "cell_type": "code",
   "execution_count": 116,
   "metadata": {},
   "outputs": [
    {
     "name": "stdout",
     "output_type": "stream",
     "text": [
      "host_is_superhost\n",
      "1\n",
      "host_total_listings_count\n",
      "1\n",
      "host_has_profile_pic\n",
      "1\n",
      "zipcode\n",
      "1\n",
      "property_type\n",
      "1\n",
      "room_type\n",
      "1\n",
      "bathrooms\n",
      "1\n",
      "beds\n",
      "1\n",
      "bed_type\n",
      "1\n",
      "security_deposit\n",
      "1\n",
      "cleaning_fee\n",
      "1\n",
      "minimum_nights\n",
      "1\n",
      "instant_bookable\n",
      "1\n",
      "cancellation_policy\n",
      "1\n",
      "senti_score\n",
      "1\n",
      "walk_score\n",
      "1\n"
     ]
    }
   ],
   "source": [
    "input_f=[]\n",
    "for i in range((data2_out.shape[1]-1)):\n",
    "    print(data2_out.columns.values[i+1])\n",
    "    input_f.append(input())"
   ]
  },
  {
   "cell_type": "code",
   "execution_count": 117,
   "metadata": {},
   "outputs": [
    {
     "name": "stdout",
     "output_type": "stream",
     "text": [
      "[[1. 1. 1. 1. 1. 1. 1. 1. 1. 1. 1. 1. 1. 1. 1. 1.]]\n"
     ]
    }
   ],
   "source": [
    "a = np.array(input_f)\n",
    "b = a.astype(np.float) \n",
    "b = b.reshape(1, -1)\n",
    "print(b)"
   ]
  },
  {
   "cell_type": "code",
   "execution_count": 120,
   "metadata": {},
   "outputs": [
    {
     "data": {
      "text/plain": [
       "array([185.62560318])"
      ]
     },
     "execution_count": 120,
     "metadata": {},
     "output_type": "execute_result"
    }
   ],
   "source": [
    "sc = ss()\n",
    "x_input= sc.fit_transform(b)\n",
    "reg2.predict(x_input)"
   ]
  },
  {
   "cell_type": "code",
   "execution_count": 133,
   "metadata": {},
   "outputs": [
    {
     "data": {
      "text/plain": [
       "0.29809220985691576"
      ]
     },
     "execution_count": 133,
     "metadata": {},
     "output_type": "execute_result"
    }
   ],
   "source": [
    "#SVM\n",
    "from sklearn.svm import LinearSVC\n",
    "def makeclass(y):\n",
    "    new_y = []\n",
    "    for i in y:\n",
    "        if i<50:\n",
    "            new_y.append(0)\n",
    "        if i>=50 and i<100:\n",
    "            new_y.append(1)\n",
    "        if i>=100 and i<150:\n",
    "            new_y.append(2)\n",
    "        if i>=150 and i<200:\n",
    "            new_y.append(3)\n",
    "        if i>=200 and i<250:\n",
    "            new_y.append(4)\n",
    "        if i>=250 and i<300:\n",
    "            new_y.append(5)\n",
    "        if i>=300:\n",
    "            new_y.append(6)\n",
    "    return np.asarray(new_y)\n",
    "\n",
    "dict_price = {0:50,1:100,2:150,3:200,4:250,5:300,6:350}\n",
    "\n",
    "class_y = makeclass(y_train)\n",
    "\n",
    "cls = LinearSVC().fit(X_train,class_y)\n",
    "cls.score(X_train,class_y)"
   ]
  },
  {
   "cell_type": "code",
   "execution_count": 140,
   "metadata": {},
   "outputs": [
    {
     "name": "stdout",
     "output_type": "stream",
     "text": [
      "cls.score of testing: 0.21573301549463647\n"
     ]
    }
   ],
   "source": [
    "class_y_test = makeclass(y_test)\n",
    "print('cls.score of testing:',cls.score(X_test,class_y_test))"
   ]
  },
  {
   "cell_type": "code",
   "execution_count": 141,
   "metadata": {},
   "outputs": [
    {
     "name": "stdout",
     "output_type": "stream",
     "text": [
      "after standardize the features,cls.score of training: 0.4379968203497615\n",
      "after standardize the features,cls.score of testing: 0.4171632896305125\n"
     ]
    }
   ],
   "source": [
    "cls = LinearSVC().fit(X_train_std,class_y)\n",
    "print('after standardize the features,cls.score of training:',cls.score(X_train_std,class_y))\n",
    "print('after standardize the features,cls.score of testing:',cls.score(X_test_std,class_y_test))"
   ]
  },
  {
   "cell_type": "code",
   "execution_count": 142,
   "metadata": {},
   "outputs": [
    {
     "data": {
      "text/plain": [
       "350"
      ]
     },
     "execution_count": 142,
     "metadata": {},
     "output_type": "execute_result"
    }
   ],
   "source": [
    "dict_price[cls.predict(np.asarray(input_f).astype(np.float).reshape(1,-1))[0]]"
   ]
  }
 ],
 "metadata": {
  "kernelspec": {
   "display_name": "Python 3",
   "language": "python",
   "name": "python3"
  },
  "language_info": {
   "codemirror_mode": {
    "name": "ipython",
    "version": 3
   },
   "file_extension": ".py",
   "mimetype": "text/x-python",
   "name": "python",
   "nbconvert_exporter": "python",
   "pygments_lexer": "ipython3",
   "version": "3.7.3"
  }
 },
 "nbformat": 4,
 "nbformat_minor": 2
}
